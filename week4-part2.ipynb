{
 "cells": [
  {
   "cell_type": "markdown",
   "metadata": {},
   "source": [
    "# Data Description\n",
    "\n",
    "The list of things or data that I need to know for my project are as follows:\n",
    "\n",
    "-list of neighborhoods in Toronto\n",
    "-the co-ordinates(latitudes and longitudes) of these neighborhoods\n",
    "-the venue data related to the Indian restaurants already present in Toronto\n",
    "\n",
    "I have decided to use regularly spaced grid of locations, centered around city center, to define the neighborhoods.\n",
    "\n",
    "Following data sources will be needed to extract/generate the required information:\n",
    "\n",
    "-scrapping of all neighborhoods in Toronto via Wikipedia\n",
    "-getting latitudes and longitudes of data of these neighborhoods via Geocoder package\n",
    "-using Foursquare API to generate venue data, related to these neighborhoods\n"
   ]
  }
 ],
 "metadata": {
  "kernelspec": {
   "display_name": "Python 3",
   "language": "python",
   "name": "python3"
  },
  "language_info": {
   "codemirror_mode": {
    "name": "ipython",
    "version": 3
   },
   "file_extension": ".py",
   "mimetype": "text/x-python",
   "name": "python",
   "nbconvert_exporter": "python",
   "pygments_lexer": "ipython3",
   "version": "3.7.4"
  }
 },
 "nbformat": 4,
 "nbformat_minor": 2
}
