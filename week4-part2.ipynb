{
 "cells": [
  {
   "cell_type": "markdown",
   "metadata": {},
   "source": [
    "# Data Description\n",
    "\n",
    "\n",
    "## The list of things or data that I need to know for my project are as follows:\n",
    "\n",
    "\n",
    "\n",
    "1.list of neighborhoods in Toronto\n",
    "\n",
    "2.the co-ordinates(latitudes and longitudes) of these neighborhoods\n",
    "\n",
    "3.the venue data related to the Indian restaurants already present in Toronto\n",
    "\n",
    "\n",
    "\n",
    "\n",
    "\n",
    "\n",
    "I have decided to use regularly spaced grid of locations, centered around city center, to define the neighborhoods.\n",
    "\n",
    "\n",
    "\n",
    "\n",
    "## Following data sources will be needed to extract/generate the required information:\n",
    "\n",
    "\n",
    "\n",
    "1.scrapping of all neighborhoods in Toronto via Wikipedia\n",
    "\n",
    "2.getting latitudes and longitudes of data of these neighborhoods via Geocoder package\n",
    "\n",
    "3.using Foursquare API to generate venue data, related to these neighborhoods\n"
   ]
  },
  {
   "cell_type": "code",
   "execution_count": null,
   "metadata": {},
   "outputs": [],
   "source": []
  }
 ],
 "metadata": {
  "kernelspec": {
   "display_name": "Python 3",
   "language": "python",
   "name": "python3"
  },
  "language_info": {
   "codemirror_mode": {
    "name": "ipython",
    "version": 3
   },
   "file_extension": ".py",
   "mimetype": "text/x-python",
   "name": "python",
   "nbconvert_exporter": "python",
   "pygments_lexer": "ipython3",
   "version": "3.7.4"
  }
 },
 "nbformat": 4,
 "nbformat_minor": 2
}
