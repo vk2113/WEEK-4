{
 "cells": [
  {
   "cell_type": "markdown",
   "metadata": {},
   "source": [
    "# Introduction: Business Problem\n",
    "\n",
    "In this project of mine, I aim to find an optimal location for a restaurant. Specifically, this report will be targeted to stakeholders interested in opening an Indian restaurant in Toronto, Canada.\n",
    "\n",
    "Since Toronto is a big city, it obviously is crowded with a lot of restaurants. So, in this project, I will try to detect locations that are not already crowded with restaurants and also areas with no Indian restaurants in vicinity. \n",
    "\n",
    "I will use my Data Science and Machine Learning skills that I've learnt so far in this IBM-DATA SCIENCE specialisation to generate a few most promising neighborhoods that match the criteria. Advantages of each area will then be clearly expressed so that best possible final location can be chosen by stakeholders.\n"
   ]
  }
 ],
 "metadata": {
  "kernelspec": {
   "display_name": "Python 3",
   "language": "python",
   "name": "python3"
  },
  "language_info": {
   "codemirror_mode": {
    "name": "ipython",
    "version": 3
   },
   "file_extension": ".py",
   "mimetype": "text/x-python",
   "name": "python",
   "nbconvert_exporter": "python",
   "pygments_lexer": "ipython3",
   "version": "3.7.4"
  }
 },
 "nbformat": 4,
 "nbformat_minor": 2
}
